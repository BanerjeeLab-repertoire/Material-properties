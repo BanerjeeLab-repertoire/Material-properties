{
 "cells": [
  {
   "cell_type": "markdown",
   "metadata": {},
   "source": [
    "# Caculation of mean squared displacement from Video particle tracking\n",
    "This program analyzes the trajectories obtain from video microscopy of beads immersed in a medium. The tracking of the beads is done through trackmate plugin of FIJI-ImageJ and the trajectories are saved as CSV files from the spot statistics window in Trackmate. This program can open the trajectories and perform drift correction, calcualtes the MSD of each particle, calculate the ensemble MSD, fits the MSD to extract the diffusion coefficient and calcualtes and writes the viscosity of the medium.  \n",
    "\n",
    "This program is published as a part of associated code for the manuscript \"*Programmable Viscoelasticity in Protein-RNA Condensates with Disordered Sticker-Spacer Polypeptides*\" by Alshareedah and coworkers. See also \n",
    "* *Alshareedah, I., Thurston, G. M. & Banerjee, P. R. Quantifying Viscosity and Surface Tension of Multi-Component Protein-Nucleic Acid Condensates. Biophysical journal, doi:https://doi.org/10.1016/j.bpj.2021.01.005 (2021).* \n",
    "\n",
    "The function ReadTable() is adapted from the microrheologypy software https://launchpad.net/microrheologypy/ and updated to Python 3 and modefied to read CSV files produced by trackmate. See *Maier, T., & Haraszti, T. (2012). Python algorithms in particle tracking microrheology. Chemistry Central Journal, 6(1), 1-9*.\n",
    "\n",
    "\n",
    "Program author: Ibraheem Alshareedah. \n",
    "Last updated: Oct 6th 2021"
   ]
  },
  {
   "cell_type": "code",
   "execution_count": null,
   "metadata": {},
   "outputs": [],
   "source": [
    "\n",
    "import matplotlib.pyplot as plt\n",
    "import numpy as nu\n",
    "from lumicks import pylake\n",
    "import math\n",
    "from multipletau import autocorrelate\n",
    "import array\n",
    "import lmfit\n",
    "import scipy as sp\n",
    "import numpy as np\n",
    "from os import listdir\n",
    "import sys, os.path\n"
   ]
  },
  {
   "cell_type": "code",
   "execution_count": null,
   "metadata": {},
   "outputs": [],
   "source": [
    "# this function is an update and modefied version of ReadTable() in microrheologypy software https://launchpad.net/microrheologypy/\n",
    "def ReadTable(filename, beadindx = -1, X=0, Y=1, indx=2, skip=1):\n",
    "\n",
    "    if os.path.isfile(filename):\n",
    "        fp = open(filename, 'rt')\n",
    "    else:\n",
    "        print(\"file not found: %s\" %filename) \n",
    "        return None\n",
    "    \n",
    "    a = fp.readlines()\n",
    "    fp.close()\n",
    "\n",
    "   \n",
    "    a = a[skip:]\n",
    "    Ni = len(a)\n",
    "    \n",
    "    t = (a[0].strip()).split(',')\n",
    "    Nj = len(t)-1\n",
    "\n",
    "    \n",
    "    res = []\n",
    "    for i in range(Ni):\n",
    "        t = a[i].strip()\n",
    "        \n",
    "        l = []\n",
    "        t = t.split(',')\n",
    "\n",
    "        for j in range(Nj):\n",
    "            l.append(float(t[j+1]))\n",
    "\n",
    "        res.append(l)\n",
    "    \n",
    "    print(\"Found: %d lines\" %len(res))\n",
    "\n",
    "  \n",
    "    res = nu.asarray(res)\n",
    "    #how many beads? beadindx is the column holding the counter:\n",
    "    Nb = nu.unique(res[:,beadindx-1])\n",
    "    print(\"Max: %d beads\" %len(Nb)) \n",
    "\n",
    "    poslist = []\n",
    "    for i in Nb:\n",
    "\n",
    "        #bindx highlights those lines containing bead i:\n",
    "        bindx = (res[:,beadindx-1] == i)\n",
    "        #poslist is a list of dicts\n",
    "        #each dict holds 'X', 'Y' for position arrays, \n",
    "        #and 'indx' for the image indices (may not be continuous)\n",
    "        poslist.append({\"X\":res[bindx,X-1], \"Y\":res[bindx,Y-1],\\\n",
    "                        \"indx\":res[bindx,indx-1]})\n",
    "\n",
    "    print(\"Found: %d beads\" %len(poslist))\n",
    "\n",
    "    return poslist\n"
   ]
  },
  {
   "cell_type": "code",
   "execution_count": null,
   "metadata": {
    "scrolled": true
   },
   "outputs": [],
   "source": [
    "import os\n",
    "# enter directory where the csv files from trackmate are saved\n",
    "testdir = r\"E:\\\"\n",
    "os.listdir(testdir)\n",
    "os.chdir(testdir)\n",
    "os.getcwd()\n",
    "#enter filename\n",
    "fname='RG5-T40 200 nm beads 100x 10 ms expo 10 ms interval_1'\n",
    "pos=ReadTable(fname+'.csv',beadindx = 2, X=4, Y=5, indx=7, skip=1)"
   ]
  },
  {
   "cell_type": "markdown",
   "metadata": {},
   "source": [
    "### Calculate Center of Mass for drift correction"
   ]
  },
  {
   "cell_type": "code",
   "execution_count": null,
   "metadata": {},
   "outputs": [],
   "source": [
    "#calculate center of mass\n",
    "\n",
    "\n",
    "sizes = np.zeros((len(pos),))\n",
    "for i in range(len(pos)): \n",
    "    sizes[i]=len(pos[i]['X'])\n",
    "lastframe=min(sizes)-1\n",
    "XCOM=np.zeros((int(lastframe),))\n",
    "YCOM=np.zeros((int(lastframe),))\n",
    "for i in range(int(lastframe)):\n",
    "    Xavg=0\n",
    "    Yavg=0\n",
    "    for j in range(len(pos)):\n",
    "        Xavg=Xavg+pos[j]['X'][i]\n",
    "        Yavg=Yavg+pos[j]['Y'][i]\n",
    "    XCOM[i]=Xavg/len(pos)\n",
    "    YCOM[i]=Yavg/len(pos)\n",
    "plt.plot(XCOM)\n"
   ]
  },
  {
   "cell_type": "markdown",
   "metadata": {},
   "source": [
    "### calculate individual MSDs"
   ]
  },
  {
   "cell_type": "code",
   "execution_count": null,
   "metadata": {},
   "outputs": [],
   "source": [
    "# calculate MSDs\n",
    "frametime=0.01 #in seconds\n",
    "msds = []\n",
    "xpos=[]\n",
    "ypos=[]\n",
    "i=[]\n",
    "msdsizes=[]\n",
    "for l in range(len(pos)):\n",
    "    ind=pos[l]['indx'][0:int(lastframe)]\n",
    "    xpos=pos[l]['X'][0:int(lastframe)]-XCOM\n",
    "    ypos=pos[l]['Y'][0:int(lastframe)]-YCOM\n",
    "    a,b=np.polyfit(ind,xpos,1)\n",
    "    error = a*ind+b\n",
    "    #xpos = xpos-error \n",
    "    a,b=np.polyfit(ind,ypos,1)\n",
    "    error = a*ind+b\n",
    "    #ypos = ypos-error \n",
    "    plt.plot(xpos,ypos)\n",
    "    nData = len(xpos)\n",
    "    numberOfdeltaT = int(nData/4)\n",
    "    msd = np.zeros((numberOfdeltaT,4))\n",
    "    \n",
    "\n",
    "    k=0\n",
    "    for dt in range(numberOfdeltaT):\n",
    "        if dt==0:\n",
    "            continue\n",
    "        deltax = xpos[1+dt:len(xpos)-1]-xpos[1:len(xpos)-1-dt]\n",
    "        deltay = ypos[1+dt:len(ypos)-1]-ypos[1:len(ypos)-1-dt]\n",
    "\n",
    "        sD = deltax**2+deltay**2\n",
    "        msd[k,0]  =frametime*dt\n",
    "        msd[k,1]  =np.mean(sD)\n",
    "        msd[k,2]  =np.std(sD)\n",
    "        msd[k,3]  =len(sD)\n",
    "        k=k+1\n",
    "    msds.append({\"time\":msd[:,0], \"MSD\":msd[:,1],\"DMSD\":msd[:,2], \"MSDsize\":len(msd)})\n",
    "    msdsizes.append(len(msd))\n",
    "   \n",
    "    xpos=[]\n",
    "    ypos=[]\n",
    "    i=[]\n",
    "\n",
    "    plt.xlabel('X (um)')\n",
    "    plt.ylabel('Y (um)')\n",
    "    plt.savefig(fname+'tracks.png')"
   ]
  },
  {
   "cell_type": "markdown",
   "metadata": {},
   "source": [
    "# Compute average MSD"
   ]
  },
  {
   "cell_type": "code",
   "execution_count": null,
   "metadata": {},
   "outputs": [],
   "source": [
    "#compute average MSD\n",
    "lastind=np.min(msdsizes)-1\n",
    "totmsd =np.zeros((lastind,))\n",
    "for i in range(len(msds)):\n",
    "    mmd = np.array(msds[i]['MSD'])\n",
    "    time= msds[i]['time']\n",
    "    totmsd=totmsd+mmd[0:lastind]\n",
    "msdavg= totmsd/len(msds)\n",
    "time=time[0:lastind]\n",
    "plt.loglog(time,msdavg,'o')\n",
    "np.savetxt(fname+'MSD.txt',np.transpose([time,msdavg]), delimiter='\\t')   # X is an array"
   ]
  },
  {
   "cell_type": "markdown",
   "metadata": {},
   "source": [
    "# Perform MSD Fit and calculate the viscosity"
   ]
  },
  {
   "cell_type": "code",
   "execution_count": null,
   "metadata": {},
   "outputs": [],
   "source": [
    "#Perform the fitting \n",
    "\n",
    "def MSDfitfit(t, D,alpha,N):\n",
    "    return 4*D*t**alpha + N\n",
    "\n",
    "modely = lmfit.Model(MSDfitfit)\n",
    "params = modely.make_params(D=1.,alpha=1.,N=0)\n",
    "\n",
    "\n",
    "params['D'].set(value=.2, vary=True)\n",
    "params['alpha'].set(value=1.0, vary=True)\n",
    "params['N'].set(value=0.,max=0.00003,min=0., vary=True)\n",
    "start=0\n",
    "end=100\n",
    "\n",
    "fitresy = modely.fit(msdavg[start:end], t=time[start:end], params=params) \n",
    "                 #  method='least_squares')\n",
    "print(fitresy.fit_report())\n",
    "\n",
    "plt.loglog(time[start:end],msdavg[start:end],'o')\n",
    "plt.loglog(time[start:end], fitresy.best_fit)\n",
    "plt.loglog(time[start:end], fitresy.init_fit)\n",
    "plt.xlabel(r'$\\tau (s)$')\n",
    "plt.ylabel(r'$MSD(\\tau)$')\n",
    "plt.savefig(fname+'MSDfit.png',bbox_inches='tight')\n",
    "timenew=np.logspace(-5,1,1000000)\n",
    "#Jnew=modely.eval(fitresy.params,t=timenew)\n",
    "np.savetxt(fname+'MSDandfit.txt',np.transpose([time[start:end],msdavg[start:end],fitresy.best_fit]))"
   ]
  },
  {
   "cell_type": "code",
   "execution_count": null,
   "metadata": {},
   "outputs": [],
   "source": [
    "#calculate viscostiy\n",
    "R=0.1 #in microns\n",
    "eta = 0.0002165/(R*fitresy.best_values['D'])\n",
    "eta"
   ]
  },
  {
   "cell_type": "code",
   "execution_count": null,
   "metadata": {},
   "outputs": [],
   "source": [
    "#save fitting report and viscosity\n",
    "import csv\n",
    "f = open(fname+'_fitting_report.txt','w')\n",
    "f.write(fitresy.fit_report())\n",
    "f.close()\n",
    "\n",
    "out=open('viscosity.txt','a')\n",
    "out.write(str(eta)+'\\n')\n",
    "out.close()"
   ]
  },
  {
   "cell_type": "code",
   "execution_count": null,
   "metadata": {},
   "outputs": [],
   "source": []
  }
 ],
 "metadata": {
  "kernelspec": {
   "display_name": "Python 3",
   "language": "python",
   "name": "python3"
  },
  "language_info": {
   "codemirror_mode": {
    "name": "ipython",
    "version": 3
   },
   "file_extension": ".py",
   "mimetype": "text/x-python",
   "name": "python",
   "nbconvert_exporter": "python",
   "pygments_lexer": "ipython3",
   "version": "3.8.8"
  }
 },
 "nbformat": 4,
 "nbformat_minor": 4
}
